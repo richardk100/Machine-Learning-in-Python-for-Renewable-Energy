{
 "cells": [
  {
   "cell_type": "code",
   "execution_count": 8,
   "id": "e55e2924-e655-476d-a3ca-5c884d6d7276",
   "metadata": {},
   "outputs": [],
   "source": [
    "import pandas as pd\n",
    "from sklearn.model_selection import train_test_split"
   ]
  },
  {
   "cell_type": "code",
   "execution_count": 10,
   "id": "ac0c5cb5-9759-4649-aab6-2eb363a907c0",
   "metadata": {},
   "outputs": [
    {
     "name": "stdout",
     "output_type": "stream",
     "text": [
      "Index(['Temperature', 'Humidity', 'Solar_Irradiance', 'Efficiency'], dtype='object')\n"
     ]
    }
   ],
   "source": [
    "df = pd.read_csv('solar_panel_efficiency.csv')\n",
    "print(df.columns)"
   ]
  },
  {
   "cell_type": "code",
   "execution_count": 12,
   "id": "acb4a00b-8f79-4950-af57-4103c2110508",
   "metadata": {},
   "outputs": [],
   "source": [
    "#Split data into features and target\n",
    "X = df.drop('Efficiency', axis =1)\n",
    "y =df['Efficiency']\n"
   ]
  },
  {
   "cell_type": "code",
   "execution_count": 14,
   "id": "1cbfee53-6be8-4d25-a1ca-b0c97089493d",
   "metadata": {},
   "outputs": [],
   "source": [
    "#Split data into train_test_split\n",
    "X_train, X_test, y_train, y_test = train_test_split(\n",
    "    X, y, test_size = 0.2, random_state = 42\n",
    ")"
   ]
  },
  {
   "cell_type": "code",
   "execution_count": 18,
   "id": "ef846ae9-1893-4c45-9400-ee686fa36f39",
   "metadata": {},
   "outputs": [],
   "source": [
    "#Model Training\n",
    "from sklearn.ensemble import RandomForestRegressor\n",
    "from xgboost import XGBRegressor"
   ]
  },
  {
   "cell_type": "code",
   "execution_count": 22,
   "id": "0178bb1e-dc4e-4d68-8396-a49af8b74db4",
   "metadata": {},
   "outputs": [],
   "source": [
    "#Initialize RandomForestRegressor\n",
    "rf_model = RandomForestRegressor(random_state = 42)\n",
    "rf_model.fit = (X_train, y_train)\n",
    "\n",
    "#Initialize XGBoost Model\n",
    "xgb_model = XGBRegressor(random_state = 42)\n",
    "xgb_model.fit = (X_train, y_train)"
   ]
  },
  {
   "cell_type": "code",
   "execution_count": 32,
   "id": "69de35c8-eb0b-4b3f-95af-190cfed004d9",
   "metadata": {},
   "outputs": [
    {
     "name": "stdout",
     "output_type": "stream",
     "text": [
      "RandomForest MSE: 0.49\n",
      "XGBoost MSE: 0.83\n"
     ]
    }
   ],
   "source": [
    "#Model Evaluation\n",
    "from sklearn.ensemble import RandomForestRegressor\n",
    "from xgboost import XGBRegressor\n",
    "\n",
    "# Ensure that rf_model and xgb_model are instantiated correctly\n",
    "rf_model = RandomForestRegressor()  \n",
    "xgb_model = XGBRegressor()\n",
    "\n",
    "# Fit the RandomForestRegressor model with training data\n",
    "rf_model.fit(X_train, y_train)\n",
    "\n",
    "# Evaluate RandomForestRegressor\n",
    "rf_predictions = rf_model.predict(X_test)\n",
    "rf_mse = mean_squared_error(y_test, rf_predictions)\n",
    "print(f\"RandomForest MSE: {rf_mse:.2f}\")\n",
    "\n",
    "# Fit the XGBoostRegressor model with training data\n",
    "xgb_model.fit(X_train, y_train)\n",
    "\n",
    "# Evaluate XGBoostRegressor\n",
    "xgb_predictions = xgb_model.predict(X_test)\n",
    "xgb_mse = mean_squared_error(y_test, xgb_predictions)\n",
    "print(f\"XGBoost MSE: {xgb_mse:.2f}\")\n",
    "\n"
   ]
  },
  {
   "cell_type": "code",
   "execution_count": 36,
   "id": "56d2b15c-9da9-48af-9acd-d91402ff4d5f",
   "metadata": {},
   "outputs": [
    {
     "name": "stdout",
     "output_type": "stream",
     "text": [
      "Best RandomForest MSE: 0.49\n"
     ]
    }
   ],
   "source": [
    "#Hyperparameter Tuning\n",
    "from sklearn.model_selection import GridSearchCV\n",
    "\n",
    "#Define Parameters for random forest\n",
    "param_grid = {\n",
    "    'n_estimators' : [100, 200, 300],\n",
    "    'max_depth' : [None, 10, 20, 30]\n",
    "}\n",
    "\n",
    "#Set up GridSearchCV\n",
    "grid_search = GridSearchCV(\n",
    "    estimator = RandomForestRegressor(random_state =42),\n",
    "    param_grid = param_grid,\n",
    "    cv = 5,\n",
    "    scoring = 'neg_mean_squared_error'\n",
    ")\n",
    "grid_search.fit(X_train, y_train)\n",
    "\n",
    "#Best Model from gridsearch\n",
    "best_rf_model = grid_search.best_estimator_\n",
    "best_rf_predictions = best_rf_model.predict(X_test)\n",
    "best_rf_mse = mean_squared_error(y_test, best_rf_predictions)\n",
    "print(f\"Best RandomForest MSE: {best_rf_mse:.2f}\")\n",
    "\n"
   ]
  },
  {
   "cell_type": "code",
   "execution_count": 42,
   "id": "2e5c3ff7-efae-4586-9bcf-4742603cd6ae",
   "metadata": {},
   "outputs": [
    {
     "name": "stdout",
     "output_type": "stream",
     "text": [
      "Initial XGBoost MSE: 0.83\n",
      "Tuned RandomForest MSE: 0.49\n",
      "Recommendation : Use Tuned RandomForest for predicting Solar Panel Efficiency\n"
     ]
    }
   ],
   "source": [
    "#Comparison and Selection\n",
    "#Output Initial XGBoost MSE\n",
    "print(f\"Initial XGBoost MSE: {xgb_mse:.2f}\")\n",
    "\n",
    "#Output Tuned RandomForest MSE\n",
    "print(f\"Tuned RandomForest MSE: {best_rf_mse:.2f}\")\n",
    "\n",
    "#Decision Logic for recommending a model\n",
    "if best_rf_mse < xgb_mse:\n",
    "    print('Recommendation : Use Tuned RandomForest for predicting Solar Panel Efficiency')\n",
    "\n",
    "else:\n",
    "    print('Recommendation : Use XGBoost for predicting Solar Panel Efficiency')\n"
   ]
  },
  {
   "cell_type": "code",
   "execution_count": null,
   "id": "7ce06d07-5d30-496b-be97-2d79800276a5",
   "metadata": {},
   "outputs": [],
   "source": []
  }
 ],
 "metadata": {
  "kernelspec": {
   "display_name": "Python 3 (ipykernel)",
   "language": "python",
   "name": "python3"
  },
  "language_info": {
   "codemirror_mode": {
    "name": "ipython",
    "version": 3
   },
   "file_extension": ".py",
   "mimetype": "text/x-python",
   "name": "python",
   "nbconvert_exporter": "python",
   "pygments_lexer": "ipython3",
   "version": "3.12.3"
  }
 },
 "nbformat": 4,
 "nbformat_minor": 5
}
